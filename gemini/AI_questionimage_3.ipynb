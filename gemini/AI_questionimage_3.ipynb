{
 "cells": [
  {
   "cell_type": "code",
   "execution_count": 6,
   "id": "f89214f1-a979-46bb-8dda-12bb0c11c32d",
   "metadata": {},
   "outputs": [
    {
     "name": "stderr",
     "output_type": "stream",
     "text": [
      "I0000 00:00:1724162205.852081 2138503 check_gcp_environment_no_op.cc:29] ALTS: Platforms other than Linux and Windows are not supported\n"
     ]
    },
    {
     "name": "stdout",
     "output_type": "stream",
     "text": [
      "This image is characteristic of rural **Ethiopia**. The traditional thatched-roof huts, the rolling hills with a mix of agriculture (likely including teff, a staple grain in Ethiopia), and the scattered trees are all common features of the Ethiopian countryside. \n",
      "\n"
     ]
    }
   ],
   "source": [
    "\n",
    "import google.generativeai as genai\n",
    "import PIL.Image\n",
    "\n",
    "# Set Google Gemini API key\n",
    "genai.configure(api_key=\"YourKeyHere\")\n",
    " \n",
    "# Specify which Gemini model to use\n",
    "model = genai.GenerativeModel('gemini-1.5-pro')\n",
    "\n",
    "chat = model.start_chat()\n",
    "\n",
    "# Set up the Gemini Pro model\n",
    "gf = {\n",
    "        \"temperature\": 0.9,\n",
    "        \"top_p\": 1,\n",
    "        \"top_k\": 1,\n",
    "        \"max_output_tokens\": 128,\n",
    "    } \n",
    "\n",
    "safety_settings=[\n",
    "        {\n",
    "            \"category\": \"HARM_CATEGORY_DANGEROUS\",\n",
    "            \"threshold\": \"BLOCK_NONE\",\n",
    "        },\n",
    "        {\n",
    "            \"category\": \"HARM_CATEGORY_HARASSMENT\",\n",
    "            \"threshold\": \"BLOCK_NONE\",\n",
    "        },\n",
    "        {\n",
    "            \"category\": \"HARM_CATEGORY_HATE_SPEECH\",\n",
    "            \"threshold\": \"BLOCK_NONE\",\n",
    "        },\n",
    "        {\n",
    "            \"category\": \"HARM_CATEGORY_SEXUALLY_EXPLICIT\",\n",
    "            \"threshold\": \"BLOCK_NONE\",\n",
    "        },\n",
    "        {\n",
    "            \"category\": \"HARM_CATEGORY_DANGEROUS_CONTENT\",\n",
    "            \"threshold\": \"BLOCK_NONE\",\n",
    "        },\n",
    "    ]\n",
    "\n",
    "\n",
    "# define default language to work with the AI model \n",
    "slang = \"en-EN\"\n",
    "\n",
    "# Main function  \n",
    "def main():\n",
    "    global today, openaitts, model, chat, slang, gf, safety_settings \n",
    "\n",
    "    sample_file = PIL.Image.open('800wm.jpeg')\n",
    "\n",
    "    # Prompt the model with text and the previously uploaded image.\n",
    "    response = model.generate_content([sample_file, \"What country/area is this image likely taken from?\"])\n",
    "    # print(response)\n",
    "    print(response.candidates[0].content.parts[0].text)\n",
    " \n",
    "if __name__ == \"__main__\":\n",
    "    main()"
   ]
  }
 ],
 "metadata": {
  "kernelspec": {
   "display_name": "Python 3 (ipykernel)",
   "language": "python",
   "name": "python3"
  },
  "language_info": {
   "codemirror_mode": {
    "name": "ipython",
    "version": 3
   },
   "file_extension": ".py",
   "mimetype": "text/x-python",
   "name": "python",
   "nbconvert_exporter": "python",
   "pygments_lexer": "ipython3",
   "version": "3.11.5"
  }
 },
 "nbformat": 4,
 "nbformat_minor": 5
}

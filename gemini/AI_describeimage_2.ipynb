{
 "cells": [
  {
   "cell_type": "code",
   "execution_count": 2,
   "id": "86243b49-16a8-4921-a7cb-574e844b2c0b",
   "metadata": {},
   "outputs": [
    {
     "name": "stderr",
     "output_type": "stream",
     "text": [
      "WARNING: All log messages before absl::InitializeLog() is called are written to STDERR\n",
      "I0000 00:00:1724162406.024194 2148144 check_gcp_environment_no_op.cc:29] ALTS: Platforms other than Linux and Windows are not supported\n"
     ]
    },
    {
     "name": "stdout",
     "output_type": "stream",
     "text": [
      "A stick figure person with a hat looks up at a cat in a tree. The cat is drawn with simple lines and is sitting on a branch. The tree has a wide trunk and bare branches. The drawing is simple, childlike, and evokes a common situation of a cat stuck up a tree. \n",
      "\n"
     ]
    }
   ],
   "source": [
    "\n",
    "import google.generativeai as genai\n",
    "import PIL.Image\n",
    "\n",
    "# Set Google Gemini API key\n",
    "genai.configure(api_key=\"YourKeyHere\")\n",
    " \n",
    "# Specify which Gemini model to use\n",
    "model = genai.GenerativeModel('gemini-1.5-pro')\n",
    "\n",
    "chat = model.start_chat()\n",
    "\n",
    "# Set up the Gemini Pro model\n",
    "gf = {\n",
    "        \"temperature\": 0.9,\n",
    "        \"top_p\": 1,\n",
    "        \"top_k\": 1,\n",
    "        \"max_output_tokens\": 128,\n",
    "    } \n",
    "\n",
    "safety_settings=[\n",
    "        {\n",
    "            \"category\": \"HARM_CATEGORY_DANGEROUS\",\n",
    "            \"threshold\": \"BLOCK_NONE\",\n",
    "        },\n",
    "        {\n",
    "            \"category\": \"HARM_CATEGORY_HARASSMENT\",\n",
    "            \"threshold\": \"BLOCK_NONE\",\n",
    "        },\n",
    "        {\n",
    "            \"category\": \"HARM_CATEGORY_HATE_SPEECH\",\n",
    "            \"threshold\": \"BLOCK_NONE\",\n",
    "        },\n",
    "        {\n",
    "            \"category\": \"HARM_CATEGORY_SEXUALLY_EXPLICIT\",\n",
    "            \"threshold\": \"BLOCK_NONE\",\n",
    "        },\n",
    "        {\n",
    "            \"category\": \"HARM_CATEGORY_DANGEROUS_CONTENT\",\n",
    "            \"threshold\": \"BLOCK_NONE\",\n",
    "        },\n",
    "    ]\n",
    "\n",
    "\n",
    "# define default language to work with the AI model \n",
    "slang = \"en-EN\"\n",
    "\n",
    "# Main function  \n",
    "def main():\n",
    "    global today, openaitts, model, chat, slang, gf, safety_settings \n",
    "\n",
    "    sample_file = PIL.Image.open('firefighter.jpg')\n",
    "\n",
    "    # Prompt the model with text and the previously uploaded image.\n",
    "    response = model.generate_content([sample_file, \"Describe this image.\"])\n",
    "    #print(response.text)\n",
    "    print(response.candidates[0].content.parts[0].text)\n",
    "\n",
    " \n",
    "if __name__ == \"__main__\":\n",
    "    main()"
   ]
  },
  {
   "cell_type": "code",
   "execution_count": null,
   "id": "f06b8a3a-04c9-4681-975c-b3a796ed68b9",
   "metadata": {},
   "outputs": [],
   "source": []
  }
 ],
 "metadata": {
  "kernelspec": {
   "display_name": "Python 3 (ipykernel)",
   "language": "python",
   "name": "python3"
  },
  "language_info": {
   "codemirror_mode": {
    "name": "ipython",
    "version": 3
   },
   "file_extension": ".py",
   "mimetype": "text/x-python",
   "name": "python",
   "nbconvert_exporter": "python",
   "pygments_lexer": "ipython3",
   "version": "3.11.5"
  }
 },
 "nbformat": 4,
 "nbformat_minor": 5
}
